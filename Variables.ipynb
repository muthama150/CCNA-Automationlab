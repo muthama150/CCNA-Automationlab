{
 "cells": [
  {
   "cell_type": "code",
   "execution_count": 15,
   "metadata": {
    "scrolled": true
   },
   "outputs": [
    {
     "name": "stdout",
     "output_type": "stream",
     "text": [
      "cakecakecakecakecakecakecakecakecakecakecakecakecakecakecakecakecakecakecakecakecakecakecakecakecakecakecakecakecakecakecakecakecakecakecakecakecakecakecakecakecakecakecakecakecakecakecakecakecakecakecakecakecakecakecakecakecakecakecakecakecakecakecakecakecakecakecakecakecakecakecakecakecakecakecakecakecakecakecakecakecakecakecakecakecakecakecakecakecakecakecakecakecakecakecakecakecakecakecakecake\n"
     ]
    }
   ],
   "source": [
    "#Assign Favorite snack\n",
    "snack = \"cake\"\n",
    "print(snack * 100) \n"
   ]
  },
  {
   "cell_type": "code",
   "execution_count": 18,
   "metadata": {},
   "outputs": [
    {
     "name": "stdout",
     "output_type": "stream",
     "text": [
      "cakechocolatechocolatechocolatechocolatechocolatechocolatechocolatechocolatechocolatechocolatechocolatechocolatechocolatechocolatechocolatechocolatechocolatechocolatechocolatechocolatechocolatechocolatechocolatechocolatechocolatechocolatechocolatechocolatechocolatechocolatechocolatechocolatechocolatechocolatechocolatechocolatechocolatechocolatechocolatechocolatechocolatechocolatechocolatechocolatechocolatechocolatechocolatechocolatechocolatechocolatechocolatechocolatechocolatechocolatechocolatechocolatechocolatechocolatechocolatechocolatechocolatechocolatechocolatechocolatechocolatechocolatechocolatechocolatechocolatechocolatechocolatechocolatechocolatechocolatechocolatechocolatechocolatechocolatechocolatechocolatechocolatechocolatechocolatechocolatechocolatechocolatechocolatechocolatechocolatechocolatechocolatechocolatechocolatechocolatechocolatechocolatechocolatechocolatechocolatechocolate\n"
     ]
    }
   ],
   "source": [
    "#Friends snack\n",
    "friendsnack = \"chocolate\"\n",
    "print(snack+friendsnack*100)"
   ]
  },
  {
   "cell_type": "code",
   "execution_count": 20,
   "metadata": {},
   "outputs": [
    {
     "name": "stdout",
     "output_type": "stream",
     "text": [
      "No, chocolate is not in the grocerylist\n"
     ]
    }
   ],
   "source": [
    "#List of groceries\n",
    "grocerylist = ['eggs', 'bread', 'milk', 'sugar', 'rice']\n",
    "\n",
    "if 'chocolate' in grocerylist:\n",
    "    print(\"Yes, chocolate is in the grocerylist\")\n",
    "else:\n",
    "    print(\"No, chocolate is not in the grocerylist\")"
   ]
  },
  {
   "cell_type": "code",
   "execution_count": 22,
   "metadata": {},
   "outputs": [
    {
     "name": "stdout",
     "output_type": "stream",
     "text": [
      "snack after swapping: chocolate\n",
      "friendsnack after swapping: cake\n"
     ]
    }
   ],
   "source": [
    "#swap the values of the snacks\n",
    "temp = snack\n",
    "snack = friendsnack\n",
    "friendsnack = temp\n",
    "print('snack after swapping: {}'.format(snack))\n",
    "print('friendsnack after swapping: {}'.format(friendsnack))"
   ]
  },
  {
   "cell_type": "code",
   "execution_count": null,
   "metadata": {},
   "outputs": [],
   "source": []
  }
 ],
 "metadata": {
  "kernelspec": {
   "display_name": "Python 3",
   "language": "python",
   "name": "python3"
  },
  "language_info": {
   "codemirror_mode": {
    "name": "ipython",
    "version": 3
   },
   "file_extension": ".py",
   "mimetype": "text/x-python",
   "name": "python",
   "nbconvert_exporter": "python",
   "pygments_lexer": "ipython3",
   "version": "3.8.3"
  }
 },
 "nbformat": 4,
 "nbformat_minor": 4
}
